{
 "cells": [
  {
   "cell_type": "code",
   "execution_count": 18,
   "metadata": {},
   "outputs": [
    {
     "name": "stdout",
     "output_type": "stream",
     "text": [
      "(100, 2)\n",
      "(50,)\n",
      "(50, 2)\n"
     ]
    },
    {
     "data": {
      "text/plain": [
       "[<matplotlib.lines.Line2D at 0x1f2be2f7c48>]"
      ]
     },
     "execution_count": 18,
     "metadata": {},
     "output_type": "execute_result"
    },
    {
     "data": {
      "image/png": "[encoded data removed]",
      "text/plain": [
       "<Figure size 432x288 with 1 Axes>"
      ]
     },
     "metadata": {
      "needs_background": "light"
     },
     "output_type": "display_data"
    }
   ],
   "source": [
    "import numpy as np\n",
    "from scipy . optimize import minimize\n",
    "from scipy import linalg\n",
    "import matplotlib . pyplot as plt\n",
    "# np . random . seed ( 0 )\n",
    "N = 100\n",
    "half_n = N // 2\n",
    "r = 10\n",
    "s = r /16\n",
    "t = np . random . uniform (0 , 2*np . pi , half_n )\n",
    "n = s*np . random . randn ( half_n )\n",
    "x , y = ( r + n)*np . cos ( t ) , ( r + n)*np . sin ( t )\n",
    "X_circ = np . hstack ( ( x . reshape ( half_n , 1 ) , y . reshape ( half_n , 1 ) ) )\n",
    "m, b = -1, 2\n",
    "x = np . linspace (-12, 12 , half_n )\n",
    "y = m*x + b + s*np . random . randn ( half_n )\n",
    "X_line = np . hstack ( ( x . reshape ( half_n , 1 ) , y . reshape ( half_n , 1 ) ) )\n",
    "X = np . vstack ( ( X_circ , X_line ) )\n",
    "plt.plot(X_circ[:,0],X_circ[:,1],'o',label = 'noisy points')\n",
    "plt.plot(X_line[:,0],X_line[:,1],'o',label = 'noisy points')\n"
   ]
  }
 ],
 "metadata": {
  "interpreter": {
   "hash": "f7ca8922bb104252929c9bff61ab4e3634ef93ec594105fa1e525f9eb8da6fc1"
  },
  "kernelspec": {
   "display_name": "Python 3.7.9 64-bit",
   "language": "python",
   "name": "python3"
  },
  "language_info": {
   "codemirror_mode": {
    "name": "ipython",
    "version": 3
   },
   "file_extension": ".py",
   "mimetype": "text/x-python",
   "name": "python",
   "nbconvert_exporter": "python",
   "pygments_lexer": "ipython3",
   "version": "3.7.9"
  },
  "orig_nbformat": 4
 },
 "nbformat": 4,
 "nbformat_minor": 2
}
