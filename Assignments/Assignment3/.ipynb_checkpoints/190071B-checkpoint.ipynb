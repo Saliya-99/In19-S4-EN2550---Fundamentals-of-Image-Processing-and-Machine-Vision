{
 "cells": [
  {
   "cell_type": "markdown",
   "metadata": {},
   "source": [
    "---\n",
    "**Assignment 2: Motion Tracking**\n",
    "\n",
    "\n",
    "---\n",
    "\n",
    "**Name:** Bandara D.R.K.W.M.S.D.\n",
    "\n",
    "\n",
    "**Index Number:**   190071B  \n",
    "**GitHub Profile:**   https://github.com/Saliya-99/In19-S4-EN2550---Fundamentals-of-Image-Processing-and-Machine-Vision/blob/master/Assignments/Assignment3/190071B.ipynb\n",
    "\n",
    "\n",
    "---"
   ]
  },
  {
   "cell_type": "markdown",
   "metadata": {},
   "source": [
    "**Opening of the images**"
   ]
  },
  {
   "cell_type": "code",
   "execution_count": 1,
   "metadata": {},
   "outputs": [
    {
     "data": {
      "image/png": "[encoded data removed]",
      "text/plain": [
       "<Figure size 432x288 with 3 Axes>"
      ]
     },
     "metadata": {
      "needs_background": "light"
     },
     "output_type": "display_data"
    }
   ],
   "source": [
    "import cv2 as cv\n",
    "import numpy as np\n",
    "import matplotlib.pyplot as plt\n",
    "\n",
    "hexnut_template = cv.imread('hexnut_template.png', cv.IMREAD_COLOR)\n",
    "squarenut_template =  cv.imread('squarenut_template.png', cv.IMREAD_COLOR)\n",
    "conveyor_f100 =  cv.imread('conveyor_f100.png', cv.IMREAD_COLOR)\n",
    "\n",
    "fig, ax = plt. subplots(1,3)\n",
    "ax[0].imshow(cv.cvtColor(hexnut_template, cv.COLOR_RGB2BGR))\n",
    "ax[1].imshow(cv.cvtColor(squarenut_template, cv.COLOR_RGB2BGR))\n",
    "ax[2].imshow(cv.cvtColor(conveyor_f100, cv.COLOR_RGB2BGR))\n",
    "plt.show()"
   ]
  },
  {
   "cell_type": "markdown",
   "metadata": {},
   "source": [
    "**Thresholding**"
   ]
  },
  {
   "cell_type": "code",
   "execution_count": 2,
   "metadata": {},
   "outputs": [
    {
     "data": {
      "image/png": "[encoded data removed]",
      "text/plain": [
       "<Figure size 432x288 with 3 Axes>"
      ]
     },
     "metadata": {
      "needs_background": "light"
     },
     "output_type": "display_data"
    }
   ],
   "source": [
    "hexnut_template_gray = cv.cvtColor(hexnut_template,cv.COLOR_BGR2GRAY)\n",
    "squarenut_template_gray = cv.cvtColor(squarenut_template,cv.COLOR_BGR2GRAY)\n",
    "conveyor_f100_gray = cv.cvtColor(conveyor_f100,cv.COLOR_BGR2GRAY)\n",
    "ret1,th1 = cv.threshold(hexnut_template_gray,0,255,cv.THRESH_BINARY+cv.THRESH_OTSU)\n",
    "ret2,th2 = cv.threshold(squarenut_template_gray,0,255,cv.THRESH_BINARY+cv.THRESH_OTSU)\n",
    "ret3,th3 = cv.threshold(conveyor_f100_gray,0,255,cv.THRESH_BINARY+cv.THRESH_OTSU)\n",
    "fig, ax = plt. subplots(1,3)\n",
    "ax[0].imshow(cv.cvtColor(th1, cv.COLOR_RGB2BGR))\n",
    "ax[1].imshow(cv.cvtColor(th2, cv.COLOR_RGB2BGR))\n",
    "ax[2].imshow(cv.cvtColor(th3, cv.COLOR_RGB2BGR))\n",
    "plt.show()"
   ]
  },
  {
   "cell_type": "markdown",
   "metadata": {},
   "source": [
    "**Morphological closing**"
   ]
  },
  {
   "cell_type": "code",
   "execution_count": 3,
   "metadata": {},
   "outputs": [
    {
     "data": {
      "image/png": "[encoded data removed]",
      "text/plain": [
       "<Figure size 432x288 with 3 Axes>"
      ]
     },
     "metadata": {
      "needs_background": "light"
     },
     "output_type": "display_data"
    }
   ],
   "source": [
    "kernel = np.ones((3,3),np.uint8)\n",
    "closing_1 = cv.morphologyEx(th1, cv.MORPH_CLOSE, kernel)\n",
    "closing_2 = cv.morphologyEx(th2, cv.MORPH_CLOSE, kernel)\n",
    "closing_3 = cv.morphologyEx(th3, cv.MORPH_CLOSE, kernel)\n",
    "fig, ax = plt. subplots(1,3)\n",
    "ax[0].imshow(cv.cvtColor(closing_1, cv.COLOR_RGB2BGR))\n",
    "ax[1].imshow(cv.cvtColor(closing_2, cv.COLOR_RGB2BGR))\n",
    "ax[2].imshow(cv.cvtColor(closing_3, cv.COLOR_RGB2BGR))\n",
    "plt.show()"
   ]
  },
  {
   "cell_type": "markdown",
   "metadata": {},
   "source": [
    "**Conncted Component analysis with the statistics**"
   ]
  },
  {
   "cell_type": "code",
   "execution_count": 41,
   "metadata": {},
   "outputs": [
    {
     "data": {
      "image/png": "[encoded data removed]",
      "text/plain": [
       "<Figure size 432x288 with 3 Axes>"
      ]
     },
     "metadata": {
      "needs_background": "light"
     },
     "output_type": "display_data"
    },
    {
     "name": "stdout",
     "output_type": "stream",
     "text": [
      "Detected Connected Components in hexnut_template Image:  3\n",
      "Detected Connected Components in squarenut_template Image:  3\n",
      "Detected Connected Components in conveyor_f100 Image:  6\n",
      "-----------------------------------------------Data of the first object of hex nut image-------------------------------------------------------------------------- \n",
      " The leftmost (x) coordinate which is the inclusive start of the bounding box in the horizontal direction:  11\n",
      " The topmost (y) coordinate which is the inclusive start of the bounding box in the vertical direction:  16\n",
      " The horizontal size of the bounding box:  99\n",
      " The vertical size of the bounding box:  88\n",
      " The total area (in pixels) of the connected component:  4722 \n",
      "\n"
     ]
    }
   ],
   "source": [
    "connectivity = 4  \n",
    "\n",
    "retval_1, labels_1, stats_1, centroids_1 = cv.connectedComponentsWithStats(closing_1, connectivity, cv.CV_32S)\n",
    "retval_2, labels_2, stats_2, centroids_2 = cv.connectedComponentsWithStats(closing_2, connectivity, cv.CV_32S)\n",
    "retval_3, labels_3, stats_3, centroids_3 = cv.connectedComponentsWithStats(closing_3, connectivity, cv.CV_32S)\n",
    "colormapped_1 = cv.applyColorMap((labels_1/np.amax(labels_1)*255).astype('uint8'), cv.COLORMAP_PARULA)\n",
    "colormapped_2 = cv.applyColorMap((labels_2/np.amax(labels_2)*255).astype('uint8'), cv.COLORMAP_PARULA)\n",
    "colormapped_3 = cv.applyColorMap((labels_3/np.amax(labels_3)*255).astype('uint8'), cv.COLORMAP_PARULA)\n",
    "fig, ax = plt. subplots(1,3)\n",
    "ax[0].imshow(cv.cvtColor(colormapped_1, cv.COLOR_RGB2BGR))\n",
    "ax[1].imshow(cv.cvtColor(colormapped_2, cv.COLOR_RGB2BGR))\n",
    "ax[2].imshow(cv.cvtColor(colormapped_3, cv.COLOR_RGB2BGR))\n",
    "plt.show()\n",
    "print(\"Detected Connected Components in hexnut_template Image: \", len(stats_1))\n",
    "print(\"Detected Connected Components in squarenut_template Image: \", len(stats_2))\n",
    "print(\"Detected Connected Components in conveyor_f100 Image: \", len(stats_3))\n",
    "print(\"-----------------------------------------------Data of the first object of hex nut image-------------------------------------------------------------------------- \")\n",
    "print(\" The leftmost (x) coordinate which is the inclusive start of the bounding box in the horizontal direction: \", stats_1[0,0])\n",
    "print(\" The topmost (y) coordinate which is the inclusive start of the bounding box in the vertical direction: \", stats_1[0,1])\n",
    "print(\" The horizontal size of the bounding box: \", stats_1[0,2])\n",
    "print(\" The vertical size of the bounding box: \", stats_1[0,3])\n",
    "print(\" The total area (in pixels) of the connected component: \", stats_1[0,4],'\\n')\n",
    "\n"
   ]
  },
  {
   "cell_type": "markdown",
   "metadata": {},
   "source": [
    "Stats is a matrix contains the <br>\n",
    "1. The leftmost (x) coordinate which is the inclusive start of the bounding box in the horizontal direction<br>\n",
    "2. The topmost (y) coordinate which is the inclusive start of the bounding box in the vertical direction<br>\n",
    "3. The horizontal size of the bounding box<br>\n",
    "4. The vertical size of the bounding box<br>\n",
    "5. The total area (in pixels) of the connected component<br>\n",
    "in each column of the matrix and one row for one object"
   ]
  },
  {
   "cell_type": "markdown",
   "metadata": {},
   "source": [
    "**Plotting extreme Contours**"
   ]
  },
  {
   "cell_type": "code",
   "execution_count": 5,
   "metadata": {},
   "outputs": [
    {
     "name": "stderr",
     "output_type": "stream",
     "text": [
      "Clipping input data to the valid range for imshow with RGB data ([0..1] for floats or [0..255] for integers).\n"
     ]
    },
    {
     "data": {
      "image/png": "[encoded data removed]",
      "text/plain": [
       "<Figure size 720x720 with 1 Axes>"
      ]
     },
     "metadata": {
      "needs_background": "light"
     },
     "output_type": "display_data"
    }
   ],
   "source": [
    "img = np.zeros((conveyor_f100.shape[0],conveyor_f100.shape[1],conveyor_f100.shape[2]))\n",
    "contours_1, hierarchy_1 = cv.findContours(th1, cv.RETR_TREE, cv.CHAIN_APPROX_SIMPLE)\n",
    "contours_2, hierarchy_2 = cv.findContours(th2, cv.RETR_TREE, cv.CHAIN_APPROX_SIMPLE)\n",
    "contours_3, hierarchy_2 = cv.findContours(th3, cv.RETR_TREE, cv.CHAIN_APPROX_SIMPLE)\n",
    "areas = []\n",
    "for i in contours_3[1:]:\n",
    "    areas.append(cv.contourArea(i))\n",
    "\n",
    "for j,k in enumerate(areas):\n",
    "    if abs(k - max(areas))<2000:\n",
    "        cv.drawContours(img, [contours_3[j+1]], 0, (0,0,255), 5)\n",
    "\n",
    "fig, ax = plt. subplots(1,1,figsize = (10,10))\n",
    "ax.imshow(img)\n",
    "plt.show()\n"
   ]
  },
  {
   "cell_type": "markdown",
   "metadata": {},
   "source": [
    "Above picture shows the extreme countours of the detected objects."
   ]
  },
  {
   "cell_type": "markdown",
   "metadata": {},
   "source": [
    "**Opening Video**"
   ]
  },
  {
   "cell_type": "code",
   "execution_count": 6,
   "metadata": {},
   "outputs": [
    {
     "name": "stdout",
     "output_type": "stream",
     "text": [
      "Can't receive frame (stream end?). Exiting.\n"
     ]
    }
   ],
   "source": [
    "cv.namedWindow('Conveyor', cv.WINDOW_NORMAL)\n",
    "cap = cv.VideoCapture('conveyor.mp4')\n",
    "f = 0\n",
    "frame = []      \n",
    "while cap.isOpened():                                    \n",
    "    ret, frame = cap.read()\n",
    "    if not ret:\n",
    "        print(\"Can't receive frame (stream end?). Exiting.\")\n",
    "        break\n",
    "\n",
    "    f += 1\n",
    "    text = 'Frame:' + str(f)\n",
    "    cv.putText(frame,text , (100, 100), cv.FONT_HERSHEY_COMPLEX, 1, (0,250,0), 1, cv.LINE_AA)\n",
    "    cv.imshow('Conveyor', frame)\n",
    "\n",
    "    if cv.waitKey(1) == ord('q'):  \n",
    "        break\n",
    "\n",
    "cap.release()\n",
    "cv.destroyAllWindows()"
   ]
  },
  {
   "cell_type": "markdown",
   "metadata": {},
   "source": [
    "**Counting the number of specific object in an image**"
   ]
  },
  {
   "cell_type": "code",
   "execution_count": 7,
   "metadata": {},
   "outputs": [
    {
     "name": "stdout",
     "output_type": "stream",
     "text": [
      "Count of hexaganal nuts in conveyor_f100:  1\n"
     ]
    }
   ],
   "source": [
    "count = 0\n",
    "for i in contours_3[1:]:\n",
    "    ret = cv.matchShapes(contours_1[1],i,1,0.0)\n",
    "    if ret < 10**(-3):\n",
    "        count += 1\n",
    "print(\"Count of hexaganal nuts in conveyor_f100: \", count)"
   ]
  },
  {
   "cell_type": "markdown",
   "metadata": {},
   "source": [
    "**Object counting, Tracking, and Displaying on video frame**"
   ]
  },
  {
   "cell_type": "markdown",
   "metadata": {},
   "source": [
    "In here, using centroids of objects to track the object througout the video."
   ]
  },
  {
   "cell_type": "code",
   "execution_count": 40,
   "metadata": {},
   "outputs": [
    {
     "name": "stdout",
     "output_type": "stream",
     "text": [
      "Can't receive frame (stream end?). Exiting.\n"
     ]
    }
   ],
   "source": [
    "# Yor code here.\n",
    "import cv2 as cv\n",
    "import numpy as np\n",
    "import matplotlib.pyplot as plt\n",
    "\n",
    "cv.namedWindow('Conveyor', cv.WINDOW_NORMAL)\n",
    "cap = cv.VideoCapture('conveyor.mp4')\n",
    "f = 0\n",
    "frame = []   \n",
    "frame_array = []\n",
    "shape = (1080, 1920, 3)\n",
    "allhex = 0\n",
    "allsqr = 0\n",
    "allcenhex = [[]]\n",
    "allcensqr = [[]]\n",
    "while cap.isOpened():                                    \n",
    "    ret, frame = cap.read()\n",
    "    if not ret:\n",
    "        print(\"Can't receive frame (stream end?). Exiting.\")\n",
    "        break\n",
    "\n",
    "    f += 1\n",
    "    frame_gray = cv.cvtColor(frame,cv.COLOR_BGR2GRAY)\n",
    "    ret3,th = cv.threshold(frame_gray,0,255,cv.THRESH_BINARY+cv.THRESH_OTSU)\n",
    "    contours, hierarchy = cv.findContours(th, cv.RETR_TREE, cv.CHAIN_APPROX_SIMPLE)\n",
    "    cv.drawContours(frame, contours, -1, (0,255,0), 3)\n",
    "    count_hex = 0\n",
    "    count_sqr = 0\n",
    "    areas = []\n",
    "    hexs = []\n",
    "    sqrs = []\n",
    "    simcountHex = 0\n",
    "    simcountsqr = 0\n",
    "    for g,i in enumerate(contours[1:]):\n",
    "        res_1 = cv.matchShapes(contours_1[1],i,1,0.0)\n",
    "        res_2 = cv.matchShapes(contours_2[1],i,1,0.0)\n",
    "        if res_1 < 10**(-4):\n",
    "            count_hex += 1\n",
    "            M = cv.moments(i)\n",
    "            cx, cy = int(M['m10']/M['m00']), int(M['m01']/M['m00'])\n",
    "            prev_hex = allcenhex[-1]\n",
    "            \n",
    "            for cen1 in prev_hex:\n",
    "                if abs(cen1[0]-cx)<=15 and abs(cen1[1]-cy) <= 15:\n",
    "                    simcountHex += 1\n",
    "                    break\n",
    "            hexs.append((cx,cy))\n",
    "           \n",
    "       \n",
    "        if res_2 < 10**(-3):\n",
    "            count_sqr += 1\n",
    "            M = cv.moments(i)\n",
    "            cx, cy = int(M['m10']/M['m00']), int(M['m01']/M['m00'])\n",
    "            prev_sqr = allcensqr[-1]\n",
    "            \n",
    "            for cen1 in prev_sqr:\n",
    "                if abs(cen1[0]-cx)<=15 and abs(cen1[1]-cy) <= 15:\n",
    "                    simcountsqr += 1\n",
    "                    break\n",
    "            sqrs.append((cx,cy))\n",
    "    allcensqr.append(sqrs)\n",
    "    allcenhex.append(hexs)\n",
    "    allhex += (count_hex - simcountHex)\n",
    "    allsqr += (count_sqr - simcountsqr)\n",
    "\n",
    "    # hex_all = hex_all+count_hex-\n",
    "\n",
    "    text = 'Frame:' + str(f) \n",
    "    text2 = \"Num of hexagonal nuts in current frame: \" + str(count_hex)\n",
    "    text3 = \"Num of square nuts in current frame: \" + str(count_sqr)\n",
    "    text4 = \"Total hex nuts: \" + str(allhex)\n",
    "    text5 = \"Total square nuts: \" + str(allsqr)\n",
    "    cv.putText(frame,text , (100, 60), cv.FONT_HERSHEY_COMPLEX,  1, (0,0,255), 1, cv.LINE_AA)\n",
    "    cv.putText(frame,text2 , (100, 80), cv.FONT_HERSHEY_COMPLEX, 0.7, (0,0,1), 1, cv.LINE_AA)\n",
    "    cv.putText(frame,text3 , (100, 100), cv.FONT_HERSHEY_COMPLEX, 0.7, (0,0,1), 1, cv.LINE_AA)\n",
    "    cv.putText(frame,text4 , (100, 120), cv.FONT_HERSHEY_COMPLEX, 0.7, (255,0,0), 1, cv.LINE_AA)\n",
    "    cv.putText(frame,text5 , (100, 140), cv.FONT_HERSHEY_COMPLEX, 0.7, (255,0,0), 1, cv.LINE_AA)\n",
    "    frame_array.append(frame)\n",
    "    cv.imshow('Conveyor', frame)\n",
    "    if cv.waitKey(1) == ord('q'):  \n",
    "        break\n",
    "\n",
    "cap.release()\n",
    "cv.destroyAllWindows()\n",
    "\n",
    "#Video write\n",
    "out = cv.VideoWriter('D:/Study Materials/Sem 4/EN2550 - Fundamentals of Image Processing and Machine Vision/conveyor_result_indexno.mp4',cv.VideoWriter_fourcc(*'h264'), 30, (shape[1], shape[0]))\n",
    " \n",
    "for i in range(len(frame_array)):\n",
    "    cv.imshow('Frame', frame_array[i])\n",
    "    if cv.waitKey(1) == ord('q'):\n",
    "        break\n",
    "    out.write(frame_array[i])\n",
    "\n",
    "out.release()\n",
    "cv.destroyAllWindows()"
   ]
  }
 ],
 "metadata": {
  "interpreter": {
   "hash": "3b1f471199249a9337e73b60376a4e253ade043bbbfcea280315b0c64f93b4b4"
  },
  "kernelspec": {
   "display_name": "Python 3 (ipykernel)",
   "language": "python",
   "name": "python3"
  },
  "language_info": {
   "codemirror_mode": {
    "name": "ipython",
    "version": 3
   },
   "file_extension": ".py",
   "mimetype": "text/x-python",
   "name": "python",
   "nbconvert_exporter": "python",
   "pygments_lexer": "ipython3",
   "version": "3.7.9"
  }
 },
 "nbformat": 4,
 "nbformat_minor": 2
}
