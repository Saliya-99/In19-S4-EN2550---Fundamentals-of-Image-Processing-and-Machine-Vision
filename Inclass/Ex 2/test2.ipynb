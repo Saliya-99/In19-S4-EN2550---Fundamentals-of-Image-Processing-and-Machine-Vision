{
 "cells": [
  {
   "cell_type": "code",
   "execution_count": null,
   "metadata": {},
   "outputs": [],
   "source": [
    "import numpy as np\n",
    "import cv2 as cv\n",
    "import matplotlib.pyplot as plt\n",
    "\n",
    "f = cv.imread('spider.png', cv.IMREAD_GRAYSCALE)\n",
    "assert f is not None\n",
    "\n",
    "t = np.arange(255,-1,-1,dtype=np.uint8)\n",
    "#g = cv.LUT(f,t)\n",
    "g = t[f]#both are same this is the numpy way of doing that\n",
    "\n",
    "fig, ax = plt.subplots()\n",
    "ax.plot(t)\n",
    "\n",
    "cv.namedWindow(\"Image\", cv.WINDOW_AUTOSIZE)\n",
    "cv.imshow(\"Iamge\", f)\n",
    "cv.waitKey(0)\n",
    "cv.destroyAllWindows()\n",
    "cv.imshow(\"Iamge\", g)\n",
    "cv.waitKey(0)\n",
    "cv.destroyAllWindows()"
   ]
  }
 ],
 "metadata": {
  "language_info": {
   "name": "python"
  },
  "orig_nbformat": 4
 },
 "nbformat": 4,
 "nbformat_minor": 2
}
